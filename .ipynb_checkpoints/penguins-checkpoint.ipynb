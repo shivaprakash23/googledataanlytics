{
 "cells": [
  {
   "cell_type": "code",
   "execution_count": 1,
   "id": "638f676d-74b7-462d-8836-b7bb9fbc36e3",
   "metadata": {},
   "outputs": [],
   "source": [
    "import pandas as pd\n",
    "import seaborn as sns"
   ]
  },
  {
   "cell_type": "code",
   "execution_count": 2,
   "id": "58c6c219-a681-4af6-86cf-f7637738d42a",
   "metadata": {},
   "outputs": [
    {
     "data": {
      "text/html": [
       "<div>\n",
       "<style scoped>\n",
       "    .dataframe tbody tr th:only-of-type {\n",
       "        vertical-align: middle;\n",
       "    }\n",
       "\n",
       "    .dataframe tbody tr th {\n",
       "        vertical-align: top;\n",
       "    }\n",
       "\n",
       "    .dataframe thead th {\n",
       "        text-align: right;\n",
       "    }\n",
       "</style>\n",
       "<table border=\"1\" class=\"dataframe\">\n",
       "  <thead>\n",
       "    <tr style=\"text-align: right;\">\n",
       "      <th></th>\n",
       "      <th>species</th>\n",
       "      <th>island</th>\n",
       "      <th>bill_length_mm</th>\n",
       "      <th>bill_depth_mm</th>\n",
       "      <th>flipper_length_mm</th>\n",
       "      <th>body_mass_g</th>\n",
       "      <th>sex</th>\n",
       "    </tr>\n",
       "  </thead>\n",
       "  <tbody>\n",
       "    <tr>\n",
       "      <th>0</th>\n",
       "      <td>Adelie</td>\n",
       "      <td>Torgersen</td>\n",
       "      <td>39.1</td>\n",
       "      <td>18.7</td>\n",
       "      <td>181.0</td>\n",
       "      <td>3750.0</td>\n",
       "      <td>Male</td>\n",
       "    </tr>\n",
       "    <tr>\n",
       "      <th>1</th>\n",
       "      <td>Adelie</td>\n",
       "      <td>Torgersen</td>\n",
       "      <td>39.5</td>\n",
       "      <td>17.4</td>\n",
       "      <td>186.0</td>\n",
       "      <td>3800.0</td>\n",
       "      <td>Female</td>\n",
       "    </tr>\n",
       "    <tr>\n",
       "      <th>2</th>\n",
       "      <td>Adelie</td>\n",
       "      <td>Torgersen</td>\n",
       "      <td>40.3</td>\n",
       "      <td>18.0</td>\n",
       "      <td>195.0</td>\n",
       "      <td>3250.0</td>\n",
       "      <td>Female</td>\n",
       "    </tr>\n",
       "    <tr>\n",
       "      <th>3</th>\n",
       "      <td>Adelie</td>\n",
       "      <td>Torgersen</td>\n",
       "      <td>NaN</td>\n",
       "      <td>NaN</td>\n",
       "      <td>NaN</td>\n",
       "      <td>NaN</td>\n",
       "      <td>NaN</td>\n",
       "    </tr>\n",
       "    <tr>\n",
       "      <th>4</th>\n",
       "      <td>Adelie</td>\n",
       "      <td>Torgersen</td>\n",
       "      <td>36.7</td>\n",
       "      <td>19.3</td>\n",
       "      <td>193.0</td>\n",
       "      <td>3450.0</td>\n",
       "      <td>Female</td>\n",
       "    </tr>\n",
       "  </tbody>\n",
       "</table>\n",
       "</div>"
      ],
      "text/plain": [
       "  species     island  bill_length_mm  bill_depth_mm  flipper_length_mm  \\\n",
       "0  Adelie  Torgersen            39.1           18.7              181.0   \n",
       "1  Adelie  Torgersen            39.5           17.4              186.0   \n",
       "2  Adelie  Torgersen            40.3           18.0              195.0   \n",
       "3  Adelie  Torgersen             NaN            NaN                NaN   \n",
       "4  Adelie  Torgersen            36.7           19.3              193.0   \n",
       "\n",
       "   body_mass_g     sex  \n",
       "0       3750.0    Male  \n",
       "1       3800.0  Female  \n",
       "2       3250.0  Female  \n",
       "3          NaN     NaN  \n",
       "4       3450.0  Female  "
      ]
     },
     "execution_count": 2,
     "metadata": {},
     "output_type": "execute_result"
    }
   ],
   "source": [
    "penguins=sns.load_dataset(\"penguins\")\n",
    "penguins.head()"
   ]
  },
  {
   "cell_type": "code",
   "execution_count": 3,
   "id": "6d22e3da-c1a8-468f-ad10-5805a1391b7c",
   "metadata": {},
   "outputs": [],
   "source": [
    "chinstrap_penguins=penguins[penguins[\"species\"]==\"Chinstrap\"]"
   ]
  },
  {
   "cell_type": "code",
   "execution_count": 8,
   "id": "bb0aae4c-2729-409e-9abc-1cfcf167599b",
   "metadata": {},
   "outputs": [],
   "source": [
    "chinstrap_penguins.reset_index(inplace=True, drop=True)\n",
    "ols_data = chinstrap_penguins[[\"bill_depth_mm\", \"flipper_length_mm\"]]"
   ]
  },
  {
   "cell_type": "code",
   "execution_count": 12,
   "id": "4babe336-2150-46b5-b58b-2cd340b28f66",
   "metadata": {},
   "outputs": [],
   "source": [
    "ols_formula=\"flipper_length_mm ~ bill_depth_mm\""
   ]
  },
  {
   "cell_type": "code",
   "execution_count": 13,
   "id": "16d8bafe-1585-4903-82c9-2703c8e2ed0e",
   "metadata": {},
   "outputs": [],
   "source": [
    "#model construction\n",
    "from statsmodels.formula.api import ols"
   ]
  },
  {
   "cell_type": "code",
   "execution_count": 14,
   "id": "4c74bc00-f1d9-4caa-aaf6-e09a1d03412b",
   "metadata": {},
   "outputs": [],
   "source": [
    "ols_model=ols(formula=ols_formula, data=ols_data)"
   ]
  },
  {
   "cell_type": "code",
   "execution_count": 15,
   "id": "2f9562b4-50ef-470b-b8b7-c88065ac116b",
   "metadata": {},
   "outputs": [
    {
     "data": {
      "text/html": [
       "<table class=\"simpletable\">\n",
       "<caption>OLS Regression Results</caption>\n",
       "<tr>\n",
       "  <th>Dep. Variable:</th>    <td>flipper_length_mm</td> <th>  R-squared:         </th> <td>   0.337</td>\n",
       "</tr>\n",
       "<tr>\n",
       "  <th>Model:</th>                   <td>OLS</td>        <th>  Adj. R-squared:    </th> <td>   0.327</td>\n",
       "</tr>\n",
       "<tr>\n",
       "  <th>Method:</th>             <td>Least Squares</td>   <th>  F-statistic:       </th> <td>   33.48</td>\n",
       "</tr>\n",
       "<tr>\n",
       "  <th>Date:</th>             <td>Sun, 04 Feb 2024</td>  <th>  Prob (F-statistic):</th> <td>2.16e-07</td>\n",
       "</tr>\n",
       "<tr>\n",
       "  <th>Time:</th>                 <td>22:21:08</td>      <th>  Log-Likelihood:    </th> <td> -215.62</td>\n",
       "</tr>\n",
       "<tr>\n",
       "  <th>No. Observations:</th>      <td>    68</td>       <th>  AIC:               </th> <td>   435.2</td>\n",
       "</tr>\n",
       "<tr>\n",
       "  <th>Df Residuals:</th>          <td>    66</td>       <th>  BIC:               </th> <td>   439.7</td>\n",
       "</tr>\n",
       "<tr>\n",
       "  <th>Df Model:</th>              <td>     1</td>       <th>                     </th>     <td> </td>   \n",
       "</tr>\n",
       "<tr>\n",
       "  <th>Covariance Type:</th>      <td>nonrobust</td>     <th>                     </th>     <td> </td>   \n",
       "</tr>\n",
       "</table>\n",
       "<table class=\"simpletable\">\n",
       "<tr>\n",
       "        <td></td>           <th>coef</th>     <th>std err</th>      <th>t</th>      <th>P>|t|</th>  <th>[0.025</th>    <th>0.975]</th>  \n",
       "</tr>\n",
       "<tr>\n",
       "  <th>Intercept</th>     <td>  128.6967</td> <td>   11.623</td> <td>   11.073</td> <td> 0.000</td> <td>  105.492</td> <td>  151.902</td>\n",
       "</tr>\n",
       "<tr>\n",
       "  <th>bill_depth_mm</th> <td>    3.6441</td> <td>    0.630</td> <td>    5.786</td> <td> 0.000</td> <td>    2.387</td> <td>    4.902</td>\n",
       "</tr>\n",
       "</table>\n",
       "<table class=\"simpletable\">\n",
       "<tr>\n",
       "  <th>Omnibus:</th>       <td> 1.350</td> <th>  Durbin-Watson:     </th> <td>   1.994</td>\n",
       "</tr>\n",
       "<tr>\n",
       "  <th>Prob(Omnibus):</th> <td> 0.509</td> <th>  Jarque-Bera (JB):  </th> <td>   0.837</td>\n",
       "</tr>\n",
       "<tr>\n",
       "  <th>Skew:</th>          <td>-0.255</td> <th>  Prob(JB):          </th> <td>   0.658</td>\n",
       "</tr>\n",
       "<tr>\n",
       "  <th>Kurtosis:</th>      <td> 3.190</td> <th>  Cond. No.          </th> <td>    303.</td>\n",
       "</tr>\n",
       "</table><br/><br/>Notes:<br/>[1] Standard Errors assume that the covariance matrix of the errors is correctly specified."
      ],
      "text/latex": [
       "\\begin{center}\n",
       "\\begin{tabular}{lclc}\n",
       "\\toprule\n",
       "\\textbf{Dep. Variable:}    & flipper\\_length\\_mm & \\textbf{  R-squared:         } &     0.337   \\\\\n",
       "\\textbf{Model:}            &         OLS         & \\textbf{  Adj. R-squared:    } &     0.327   \\\\\n",
       "\\textbf{Method:}           &    Least Squares    & \\textbf{  F-statistic:       } &     33.48   \\\\\n",
       "\\textbf{Date:}             &   Sun, 04 Feb 2024  & \\textbf{  Prob (F-statistic):} &  2.16e-07   \\\\\n",
       "\\textbf{Time:}             &       22:21:08      & \\textbf{  Log-Likelihood:    } &   -215.62   \\\\\n",
       "\\textbf{No. Observations:} &            68       & \\textbf{  AIC:               } &     435.2   \\\\\n",
       "\\textbf{Df Residuals:}     &            66       & \\textbf{  BIC:               } &     439.7   \\\\\n",
       "\\textbf{Df Model:}         &             1       & \\textbf{                     } &             \\\\\n",
       "\\textbf{Covariance Type:}  &      nonrobust      & \\textbf{                     } &             \\\\\n",
       "\\bottomrule\n",
       "\\end{tabular}\n",
       "\\begin{tabular}{lcccccc}\n",
       "                         & \\textbf{coef} & \\textbf{std err} & \\textbf{t} & \\textbf{P$> |$t$|$} & \\textbf{[0.025} & \\textbf{0.975]}  \\\\\n",
       "\\midrule\n",
       "\\textbf{Intercept}       &     128.6967  &       11.623     &    11.073  &         0.000        &      105.492    &      151.902     \\\\\n",
       "\\textbf{bill\\_depth\\_mm} &       3.6441  &        0.630     &     5.786  &         0.000        &        2.387    &        4.902     \\\\\n",
       "\\bottomrule\n",
       "\\end{tabular}\n",
       "\\begin{tabular}{lclc}\n",
       "\\textbf{Omnibus:}       &  1.350 & \\textbf{  Durbin-Watson:     } &    1.994  \\\\\n",
       "\\textbf{Prob(Omnibus):} &  0.509 & \\textbf{  Jarque-Bera (JB):  } &    0.837  \\\\\n",
       "\\textbf{Skew:}          & -0.255 & \\textbf{  Prob(JB):          } &    0.658  \\\\\n",
       "\\textbf{Kurtosis:}      &  3.190 & \\textbf{  Cond. No.          } &     303.  \\\\\n",
       "\\bottomrule\n",
       "\\end{tabular}\n",
       "%\\caption{OLS Regression Results}\n",
       "\\end{center}\n",
       "\n",
       "Notes: \\newline\n",
       " [1] Standard Errors assume that the covariance matrix of the errors is correctly specified."
      ],
      "text/plain": [
       "<class 'statsmodels.iolib.summary.Summary'>\n",
       "\"\"\"\n",
       "                            OLS Regression Results                            \n",
       "==============================================================================\n",
       "Dep. Variable:      flipper_length_mm   R-squared:                       0.337\n",
       "Model:                            OLS   Adj. R-squared:                  0.327\n",
       "Method:                 Least Squares   F-statistic:                     33.48\n",
       "Date:                Sun, 04 Feb 2024   Prob (F-statistic):           2.16e-07\n",
       "Time:                        22:21:08   Log-Likelihood:                -215.62\n",
       "No. Observations:                  68   AIC:                             435.2\n",
       "Df Residuals:                      66   BIC:                             439.7\n",
       "Df Model:                           1                                         \n",
       "Covariance Type:            nonrobust                                         \n",
       "=================================================================================\n",
       "                    coef    std err          t      P>|t|      [0.025      0.975]\n",
       "---------------------------------------------------------------------------------\n",
       "Intercept       128.6967     11.623     11.073      0.000     105.492     151.902\n",
       "bill_depth_mm     3.6441      0.630      5.786      0.000       2.387       4.902\n",
       "==============================================================================\n",
       "Omnibus:                        1.350   Durbin-Watson:                   1.994\n",
       "Prob(Omnibus):                  0.509   Jarque-Bera (JB):                0.837\n",
       "Skew:                          -0.255   Prob(JB):                        0.658\n",
       "Kurtosis:                       3.190   Cond. No.                         303.\n",
       "==============================================================================\n",
       "\n",
       "Notes:\n",
       "[1] Standard Errors assume that the covariance matrix of the errors is correctly specified.\n",
       "\"\"\""
      ]
     },
     "execution_count": 15,
     "metadata": {},
     "output_type": "execute_result"
    }
   ],
   "source": [
    "model=ols_model.fit()\n",
    "model.summary()"
   ]
  },
  {
   "cell_type": "code",
   "execution_count": 17,
   "id": "726cb5c6-4192-4696-83d4-6ae414c1595f",
   "metadata": {},
   "outputs": [],
   "source": [
    "predictions=model.predict(chinstrap_penguins[[\"bill_depth_mm\"]])\n",
    "residuals=model.resid"
   ]
  },
  {
   "cell_type": "code",
   "execution_count": null,
   "id": "01b3e91d-acc6-420e-9099-3407304a4ddb",
   "metadata": {},
   "outputs": [],
   "source": []
  }
 ],
 "metadata": {
  "kernelspec": {
   "display_name": "Python 3 (ipykernel)",
   "language": "python",
   "name": "python3"
  },
  "language_info": {
   "codemirror_mode": {
    "name": "ipython",
    "version": 3
   },
   "file_extension": ".py",
   "mimetype": "text/x-python",
   "name": "python",
   "nbconvert_exporter": "python",
   "pygments_lexer": "ipython3",
   "version": "3.11.7"
  }
 },
 "nbformat": 4,
 "nbformat_minor": 5
}
